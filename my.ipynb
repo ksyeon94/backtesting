{
 "cells": [
  {
   "cell_type": "code",
   "execution_count": 9,
   "metadata": {},
   "outputs": [
    {
     "name": "stderr",
     "output_type": "stream",
     "text": [
      "[*********************100%***********************]  1 of 1 completed\n"
     ]
    },
    {
     "data": {
      "text/html": [
       "<div>\n",
       "<style scoped>\n",
       "    .dataframe tbody tr th:only-of-type {\n",
       "        vertical-align: middle;\n",
       "    }\n",
       "\n",
       "    .dataframe tbody tr th {\n",
       "        vertical-align: top;\n",
       "    }\n",
       "\n",
       "    .dataframe thead tr th {\n",
       "        text-align: left;\n",
       "    }\n",
       "\n",
       "    .dataframe thead tr:last-of-type th {\n",
       "        text-align: right;\n",
       "    }\n",
       "</style>\n",
       "<table border=\"1\" class=\"dataframe\">\n",
       "  <thead>\n",
       "    <tr>\n",
       "      <th>Price</th>\n",
       "      <th>Adj Close</th>\n",
       "      <th>Close</th>\n",
       "      <th>High</th>\n",
       "      <th>Low</th>\n",
       "      <th>Open</th>\n",
       "      <th>Volume</th>\n",
       "    </tr>\n",
       "    <tr>\n",
       "      <th>Ticker</th>\n",
       "      <th>005930.KS</th>\n",
       "      <th>005930.KS</th>\n",
       "      <th>005930.KS</th>\n",
       "      <th>005930.KS</th>\n",
       "      <th>005930.KS</th>\n",
       "      <th>005930.KS</th>\n",
       "    </tr>\n",
       "    <tr>\n",
       "      <th>Date</th>\n",
       "      <th></th>\n",
       "      <th></th>\n",
       "      <th></th>\n",
       "      <th></th>\n",
       "      <th></th>\n",
       "      <th></th>\n",
       "    </tr>\n",
       "  </thead>\n",
       "  <tbody>\n",
       "    <tr>\n",
       "      <th>2021-01-04</th>\n",
       "      <td>77225.750000</td>\n",
       "      <td>83000.0</td>\n",
       "      <td>84400.0</td>\n",
       "      <td>80200.0</td>\n",
       "      <td>81000.0</td>\n",
       "      <td>38655276</td>\n",
       "    </tr>\n",
       "    <tr>\n",
       "      <th>2021-01-05</th>\n",
       "      <td>78063.148438</td>\n",
       "      <td>83900.0</td>\n",
       "      <td>83900.0</td>\n",
       "      <td>81600.0</td>\n",
       "      <td>81600.0</td>\n",
       "      <td>35335669</td>\n",
       "    </tr>\n",
       "    <tr>\n",
       "      <th>2021-01-06</th>\n",
       "      <td>76481.398438</td>\n",
       "      <td>82200.0</td>\n",
       "      <td>84500.0</td>\n",
       "      <td>82100.0</td>\n",
       "      <td>83300.0</td>\n",
       "      <td>42089013</td>\n",
       "    </tr>\n",
       "    <tr>\n",
       "      <th>2021-01-07</th>\n",
       "      <td>77132.695312</td>\n",
       "      <td>82900.0</td>\n",
       "      <td>84200.0</td>\n",
       "      <td>82700.0</td>\n",
       "      <td>82800.0</td>\n",
       "      <td>32644642</td>\n",
       "    </tr>\n",
       "    <tr>\n",
       "      <th>2021-01-08</th>\n",
       "      <td>82622.250000</td>\n",
       "      <td>88800.0</td>\n",
       "      <td>90000.0</td>\n",
       "      <td>83000.0</td>\n",
       "      <td>83300.0</td>\n",
       "      <td>59013307</td>\n",
       "    </tr>\n",
       "  </tbody>\n",
       "</table>\n",
       "</div>"
      ],
      "text/plain": [
       "Price          Adj Close     Close      High       Low      Open    Volume\n",
       "Ticker         005930.KS 005930.KS 005930.KS 005930.KS 005930.KS 005930.KS\n",
       "Date                                                                      \n",
       "2021-01-04  77225.750000   83000.0   84400.0   80200.0   81000.0  38655276\n",
       "2021-01-05  78063.148438   83900.0   83900.0   81600.0   81600.0  35335669\n",
       "2021-01-06  76481.398438   82200.0   84500.0   82100.0   83300.0  42089013\n",
       "2021-01-07  77132.695312   82900.0   84200.0   82700.0   82800.0  32644642\n",
       "2021-01-08  82622.250000   88800.0   90000.0   83000.0   83300.0  59013307"
      ]
     },
     "execution_count": 9,
     "metadata": {},
     "output_type": "execute_result"
    }
   ],
   "source": [
    "import yfinance as yf\n",
    "import pandas as pd\n",
    "\n",
    "\n"
   ]
  },
  {
   "cell_type": "code",
   "execution_count": 15,
   "metadata": {},
   "outputs": [],
   "source": [
    "stock_dict={\"Gold\":'132030.KS', \"KTB\":\"148070.KS\", \"200TR\":\"278530.KS\", \"USTB\": \"304660.KS\", \"Sp500\":\"360750.KS\"}"
   ]
  },
  {
   "cell_type": "code",
   "execution_count": 100,
   "metadata": {},
   "outputs": [
    {
     "name": "stderr",
     "output_type": "stream",
     "text": [
      "[*********************100%***********************]  1 of 1 completed\n",
      "[*********************100%***********************]  1 of 1 completed\n",
      "[*********************100%***********************]  1 of 1 completed\n",
      "[*********************100%***********************]  1 of 1 completed\n",
      "[*********************100%***********************]  1 of 1 completed\n"
     ]
    }
   ],
   "source": [
    "for key, value in stock_dict.items():\n",
    "    # 삼성전자 주식 데이터 다운로드\n",
    "    df = yf.download(value, '2003-01-01', '2024-10-30')\n",
    "\n",
    "    # datetime 열의 시간대 정보 제거\n",
    "    df.index = df.index.tz_localize(None)\n",
    "\n",
    "    # 수정된 데이터프레임을 Excel과 CSV 파일로 저장\n",
    "    df.to_csv(f\"ISA/{key}.csv\")\n",
    "\n"
   ]
  },
  {
   "cell_type": "code",
   "execution_count": 176,
   "metadata": {},
   "outputs": [],
   "source": [
    "import pandas as pd\n",
    "\n",
    "def load_data(file_path):\n",
    "    \"\"\"CSV 파일에서 필요한 열을 읽어옵니다.\"\"\"\n",
    "    df = pd.read_csv(file_path, index_col='Price', parse_dates=True)\n",
    "    return df[['High', 'Low']]\n",
    "\n",
    "def generate_investment_dates(start_date, end_date):\n",
    "    \"\"\"매월 15일을 기준으로 한 투자 날짜 목록을 생성합니다.\"\"\"\n",
    "    investment_dates = pd.date_range(start=start_date, end=end_date, freq='MS') + pd.DateOffset(days=14)\n",
    "    return pd.to_datetime(investment_dates.strftime('%Y-%m-%d'))\n",
    "\n",
    "def get_investment_data(df, investment_dates):\n",
    "    \"\"\"매월 15일 이후 가장 가까운 영업일의 데이터를 가져옵니다.\"\"\"\n",
    "    investment_data = pd.DataFrame()\n",
    "    for date in investment_dates:\n",
    "        while date.strftime('%Y-%m-%d') not in df.index:\n",
    "            date += pd.DateOffset(days=1)  # 다음 날로 이동\n",
    "        closest_date_data = df.loc[[date.strftime('%Y-%m-%d')]]\n",
    "        investment_data = pd.concat([investment_data, closest_date_data])\n",
    "    return investment_data\n",
    "\n",
    "def calculate_investment(investment_data, monthly_investment=1000000):\n",
    "    \"\"\"매월 평균 가격으로 주식 수를 계산하고 총 투자 금액과 총 주식 수를 반환합니다.\"\"\"\n",
    "    investment_data['Average Price'] = investment_data[['High', 'Low']].apply(pd.to_numeric, errors='coerce').mean(axis=1)\n",
    "    investment_data['Shares Bought'] = monthly_investment / investment_data['Average Price']\n",
    "    total_investment = monthly_investment * len(investment_data)\n",
    "    total_shares = investment_data['Shares Bought'].sum()\n",
    "    return total_investment, total_shares\n",
    "\n",
    "def calculate_final_value(df, total_shares, final_date):\n",
    "    \"\"\"최종 평가 금액을 계산합니다. final_date 이후 가장 가까운 영업일을 사용합니다.\"\"\"\n",
    "    # 날짜가 없으면 그 이후 가장 가까운 영업일로 이동\n",
    "    # 날짜가 없으면 그 이후 가장 가까운 영업일로 이동\n",
    "    while final_date not in df.index:\n",
    "        final_date = (pd.to_datetime(final_date) + pd.DateOffset(days=1)).strftime('%Y-%m-%d')  # 다음 날로 이동\n",
    "    \n",
    "    # 최종 가격을 사용하여 평가 금액 계산\n",
    "    final_price = pd.to_numeric(df.loc[final_date, 'Low'], errors='coerce')\n",
    "    final_value = total_shares * final_price\n",
    "    return final_value\n",
    "\n",
    "\n",
    "def calculate_profit_rate(final_value, total_investment):\n",
    "    \"\"\"수익률을 계산합니다.\"\"\"\n",
    "    profit_rate = (final_value - total_investment) / total_investment * 100\n",
    "    return profit_rate\n",
    "\n",
    "def main(file_path, final_date, money, start_date, end_date):\n",
    "    # 단계별 함수 실행\n",
    "    df = load_data(file_path)\n",
    "    investment_dates = generate_investment_dates(start_date, end_date)\n",
    "    investment_data = get_investment_data(df, investment_dates)\n",
    "    total_investment, total_shares = calculate_investment(investment_data, monthly_investment=money)\n",
    "    final_value = round(calculate_final_value(df, total_shares, final_date), 2)\n",
    "    profit_rate = round(calculate_profit_rate(final_value, total_investment), 2)\n",
    "    \n",
    "    # 결과 출력\n",
    "    print(f\"총 투자금액: {total_investment:.2f}원\")\n",
    "    print(f\"{final_date} 기준 총 평가 금액: {final_value:.2f}원\")\n",
    "    print(f\"{final_date} 기준 수익률: {profit_rate:.2f}%\")\n",
    "    \n",
    "    return total_investment,final_value\n"
   ]
  },
  {
   "cell_type": "code",
   "execution_count": 200,
   "metadata": {},
   "outputs": [],
   "source": [
    "# 사용 예시\n",
    "\n",
    "def 회계(num, half):\n",
    "    if half==\"5_10\":\n",
    "        final_date = f'20{num}-10-20'\n",
    "        start_date = f'20{num}-05-01'\n",
    "        end_date = f'20{num}-10-30'\n",
    "        stock_rate_dict={\"Gold\":15, \"KTB\":32.5, \"200TR\":10, \"USTB\": 32.5, \"Sp500\":10}\n",
    "    if half==\"11_4\":\n",
    "        final_date = f'20{num+1}-4-20'\n",
    "        start_date = f'20{num}-11-01'\n",
    "        end_date = f'20{num+1}-4-30'\n",
    "        stock_rate_dict={\"Gold\":15, \"KTB\":17.5, \"200TR\":25, \"USTB\": 17.5, \"Sp500\":25}\n",
    "        \n",
    "    investment_dict = {}\n",
    "    value_dict = {}\n",
    "\n",
    "    for key, value in stock_rate_dict.items():\n",
    "        print(f\"-------------{key}------------\")\n",
    "        \n",
    "        investment_dict[key],value_dict[key] = main(f\"ISA/{key}.csv\", final_date, value, start_date, end_date)\n",
    "\n",
    "    # value_dict의 모든 값을 더하여 sum_total에 저장\n",
    "    sum_total_investment = sum(investment_dict.values())\n",
    "    sum_total_value = sum(value_dict.values())\n",
    "    print(f\"모든 종목의 투자 금액 합계: {sum_total_investment:.2f}원\")\n",
    "    print(f\"모든 종목의 최종 평가 금액 합계: {sum_total_value:.2f}원\")\n",
    "    print(f\"전체 수익률: {(sum_total_value-sum_total_investment)/sum_total_investment*100:.2f}%\")\n"
   ]
  },
  {
   "cell_type": "code",
   "execution_count": 215,
   "metadata": {},
   "outputs": [
    {
     "name": "stdout",
     "output_type": "stream",
     "text": [
      "-------------Gold------------\n",
      "총 투자금액: 90.00원\n",
      "2024-10-20 기준 총 평가 금액: 98.63원\n",
      "2024-10-20 기준 수익률: 9.59%\n",
      "-------------KTB------------\n",
      "총 투자금액: 195.00원\n",
      "2024-10-20 기준 총 평가 금액: 197.34원\n",
      "2024-10-20 기준 수익률: 1.20%\n",
      "-------------200TR------------\n",
      "총 투자금액: 60.00원\n",
      "2024-10-20 기준 총 평가 금액: 56.78원\n",
      "2024-10-20 기준 수익률: -5.37%\n",
      "-------------USTB------------\n",
      "총 투자금액: 195.00원\n",
      "2024-10-20 기준 총 평가 금액: 192.12원\n",
      "2024-10-20 기준 수익률: -1.48%\n",
      "-------------Sp500------------\n",
      "총 투자금액: 60.00원\n",
      "2024-10-20 기준 총 평가 금액: 63.59원\n",
      "2024-10-20 기준 수익률: 5.98%\n",
      "모든 종목의 투자 금액 합계: 600.00원\n",
      "모든 종목의 최종 평가 금액 합계: 608.46원\n",
      "전체 수익률: 1.41%\n"
     ]
    },
    {
     "name": "stderr",
     "output_type": "stream",
     "text": [
      "C:\\Users\\Administrator\\AppData\\Local\\Temp\\ipykernel_18272\\1412484538.py:5: UserWarning: Could not infer format, so each element will be parsed individually, falling back to `dateutil`. To ensure parsing is consistent and as-expected, please specify a format.\n",
      "  df = pd.read_csv(file_path, index_col='Price', parse_dates=True)\n",
      "C:\\Users\\Administrator\\AppData\\Local\\Temp\\ipykernel_18272\\1412484538.py:5: UserWarning: Could not infer format, so each element will be parsed individually, falling back to `dateutil`. To ensure parsing is consistent and as-expected, please specify a format.\n",
      "  df = pd.read_csv(file_path, index_col='Price', parse_dates=True)\n",
      "C:\\Users\\Administrator\\AppData\\Local\\Temp\\ipykernel_18272\\1412484538.py:5: UserWarning: Could not infer format, so each element will be parsed individually, falling back to `dateutil`. To ensure parsing is consistent and as-expected, please specify a format.\n",
      "  df = pd.read_csv(file_path, index_col='Price', parse_dates=True)\n",
      "C:\\Users\\Administrator\\AppData\\Local\\Temp\\ipykernel_18272\\1412484538.py:5: UserWarning: Could not infer format, so each element will be parsed individually, falling back to `dateutil`. To ensure parsing is consistent and as-expected, please specify a format.\n",
      "  df = pd.read_csv(file_path, index_col='Price', parse_dates=True)\n",
      "C:\\Users\\Administrator\\AppData\\Local\\Temp\\ipykernel_18272\\1412484538.py:5: UserWarning: Could not infer format, so each element will be parsed individually, falling back to `dateutil`. To ensure parsing is consistent and as-expected, please specify a format.\n",
      "  df = pd.read_csv(file_path, index_col='Price', parse_dates=True)\n"
     ]
    }
   ],
   "source": [
    "회계(24,\"5_10\")"
   ]
  },
  {
   "cell_type": "code",
   "execution_count": 170,
   "metadata": {},
   "outputs": [
    {
     "name": "stdout",
     "output_type": "stream",
     "text": [
      "2020-01-02\n",
      "<class 'str'>\n"
     ]
    }
   ],
   "source": [
    "import pandas as pd\n",
    "\n",
    "a = \"2020-01-01\"\n",
    "a = (pd.to_datetime(a) + pd.DateOffset(days=1)).strftime('%Y-%m-%d')  # 날짜에 하루 추가 후 문자열로 변환\n",
    "print(a)  # 출력: 2020-01-02\n",
    "print(type(a))  # <class 'str'>\n"
   ]
  },
  {
   "cell_type": "code",
   "execution_count": 171,
   "metadata": {},
   "outputs": [
    {
     "data": {
      "text/plain": [
       "str"
      ]
     },
     "execution_count": 171,
     "metadata": {},
     "output_type": "execute_result"
    }
   ],
   "source": [
    "type(\"a\")"
   ]
  },
  {
   "cell_type": "code",
   "execution_count": null,
   "metadata": {},
   "outputs": [],
   "source": []
  }
 ],
 "metadata": {
  "kernelspec": {
   "display_name": "my_env",
   "language": "python",
   "name": "python3"
  },
  "language_info": {
   "codemirror_mode": {
    "name": "ipython",
    "version": 3
   },
   "file_extension": ".py",
   "mimetype": "text/x-python",
   "name": "python",
   "nbconvert_exporter": "python",
   "pygments_lexer": "ipython3",
   "version": "3.10.15"
  }
 },
 "nbformat": 4,
 "nbformat_minor": 2
}
